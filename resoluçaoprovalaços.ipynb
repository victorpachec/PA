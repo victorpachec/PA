{
  "cells": [
    {
      "cell_type": "markdown",
      "metadata": {
        "id": "view-in-github",
        "colab_type": "text"
      },
      "source": [
        "<a href=\"https://colab.research.google.com/github/victorpachec/PA/blob/main/resolu%C3%A7aoprovala%C3%A7os.ipynb\" target=\"_parent\"><img src=\"https://colab.research.google.com/assets/colab-badge.svg\" alt=\"Open In Colab\"/></a>"
      ]
    },
    {
      "cell_type": "code",
      "execution_count": null,
      "metadata": {
        "id": "whKY8M6Xpj6u",
        "colab": {
          "base_uri": "https://localhost:8080/"
        },
        "outputId": "0dd3f02b-bd44-43bb-e96f-b61a1a822306"
      },
      "outputs": [
        {
          "output_type": "stream",
          "name": "stdout",
          "text": [
            "Bem vindo ao jogo de adivinhação!\n",
            "Você tem 10 pontos, a cada erro você perde 1 pontos\n",
            "Tente adivinhar o número secreto entre 1 e 100\n",
            "Digite um número de 1 a 100: 10\n",
            "Muito alto\n",
            "Quente - Você está chegando perto \n",
            "Você errou: 1 vezes\n",
            "Você tem: 9 pontos\n",
            "Digite um número de 1 a 100: 14\n",
            "Muito alto\n",
            "Quente - Você está chegando perto \n",
            "Você errou: 2 vezes\n",
            "Você tem: 8 pontos\n",
            "Digite um número de 1 a 100: 12\n",
            "Muito alto\n",
            "Quente - Você está chegando perto \n",
            "Você errou: 3 vezes\n",
            "Você tem: 7 pontos\n"
          ]
        }
      ],
      "source": [
        "import random\n",
        "secreto = random.randrange(1,100)\n",
        "resp = 0\n",
        "erros = 0\n",
        "calcu = 0\n",
        "pontos = 10\n",
        "print(\"Bem vindo ao jogo de adivinhação!\")\n",
        "print(\"Você tem 10 pontos, a cada erro você perde 1 pontos\")\n",
        "print(\"Tente adivinhar o número secreto entre 1 e 100\")\n",
        "while resp != 20:\n",
        "  resp = int(input(\"Digite um número de 1 a 100: \"))\n",
        "  if resp <=0 or resp > 100:\n",
        "    print(\"Número muito acima ou abaixo\")\n",
        "    break\n",
        "  if resp > secreto:\n",
        "    print(\"Muito alto\")\n",
        "    calcu = resp - secreto\n",
        "    if calcu <= 10:\n",
        "     print(\"Quente - Você está chegando perto \")\n",
        "    elif calcu > 5 and calcu <= 10:\n",
        "      print(\"Morno - Você está quase\")\n",
        "    elif calcu > 10 and calcu <= 20:\n",
        "      print(\"Frio - Você está longe\")\n",
        "    elif calcu > 20:\n",
        "      print(\"Congelado - Você está muito frio\")\n",
        "  if resp < secreto:\n",
        "      print(\"Muito longe\")\n",
        "      calcu = secreto - resp\n",
        "      if calcu <= 10:\n",
        "        print(\"Quente - Você está perto\")\n",
        "      elif calcu > 5 and calcu <= 10:\n",
        "        print(\"Morno - Você está médio\")\n",
        "      elif calcu > 10 and calcu <= 20:\n",
        "        print(\"Frio - Você está longe\")\n",
        "      elif calcu > 20:\n",
        "        print(\"Congelado - Você está muito longe\")\n",
        "  if resp == secreto:\n",
        "      print(\"Você acertou  parabéns\")\n",
        "      break\n",
        "  erros = erros +1\n",
        "  print(\"Você errou:\", erros, \"vezes\")\n",
        "  pontos = pontos - 1\n",
        "  if pontos == 0:\n",
        "    print(\"Você perdeu todos os pontos\")\n",
        "    break\n",
        "  print(\"Você tem:\", pontos, \"pontos\")\n",
        "print(\"Fim de jogo\")"
      ]
    },
    {
      "cell_type": "markdown",
      "metadata": {
        "id": "AEB_ZnixaJZK"
      },
      "source": []
    }
  ],
  "metadata": {
    "colab": {
      "provenance": [],
      "authorship_tag": "ABX9TyORUjVfMVm+g03SsrJu8Ws+",
      "include_colab_link": true
    },
    "kernelspec": {
      "display_name": "Python 3",
      "name": "python3"
    },
    "language_info": {
      "name": "python"
    }
  },
  "nbformat": 4,
  "nbformat_minor": 0
}